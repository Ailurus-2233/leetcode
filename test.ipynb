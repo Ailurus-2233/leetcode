{
 "cells": [
  {
   "cell_type": "code",
   "execution_count": 2,
   "metadata": {},
   "outputs": [],
   "source": [
    "import \"fmt\""
   ]
  },
  {
   "cell_type": "code",
   "execution_count": 9,
   "metadata": {},
   "outputs": [
    {
     "name": "stdout",
     "output_type": "stream",
     "text": [
      "error\n",
      "3\n"
     ]
    },
    {
     "data": {
      "text/plain": [
       "2 <nil>"
      ]
     },
     "execution_count": 9,
     "metadata": {},
     "output_type": "execute_result"
    }
   ],
   "source": [
    "postorder := []int{1, 3, 2, 6, 7, 5}\n",
    "\n",
    "root := postorder[len(postorder)-1]\n",
    "\n",
    "left :=  make([]int, 0)\n",
    "right := make([]int, 0)\n",
    "\n",
    "// 找到左右子树的分界线\n",
    "index := 0\n",
    "flag := true\n",
    "for i := 0; i < len(postorder)-1; i++ {\n",
    "\tif postorder[i] < root && flag{\n",
    "\t\tcontinue\n",
    "\t} else {\n",
    "\t\tif flag {\n",
    "\t\t\tindex = i\n",
    "\t\t}\n",
    "\t\tflag = false\n",
    "\t\tif postorder[i] < root {\n",
    "\t\t\tfmt.Println(\"error\")\n",
    "\t\t}\n",
    "\t}\n",
    "}\n",
    "\n",
    "fmt.Println(j)\n"
   ]
  },
  {
   "cell_type": "code",
   "execution_count": 10,
   "metadata": {},
   "outputs": [],
   "source": [
    "func verifyPostorder(postorder []int) bool {\n",
    "\tif len(postorder) == 0 || len(postorder) == 1 {\n",
    "\t\treturn true\n",
    "\t}\n",
    "\troot := postorder[len(postorder)-1]\n",
    "\tflag := true\n",
    "\tfor i := 0; i < len(postorder)-1; i++ {\n",
    "\t\tif postorder[i] < root && flag{\n",
    "\t\t\tcontinue\n",
    "\t\t} else {\n",
    "\t\t\tflag = false\n",
    "\t\t\tif postorder[i] < root {\n",
    "\t\t\t\treturn false\n",
    "\t\t\t}\n",
    "\t\t}\n",
    "\t}\n",
    "\tleft := make([]int, 0)\n",
    "\tright := make([]int, 0)\n",
    "\tfor i := 0; i < len(postorder)-1; i++ {\n",
    "\t\tif postorder[i] > root {\n",
    "\t\t\tright = append(right, postorder[i])\n",
    "\t\t} else {\n",
    "\t\t\tleft = append(left, postorder[i])\n",
    "\t\t}\n",
    "\t}\n",
    "\treturn verifyPostorder(left) && verifyPostorder(right)\n",
    "}\n"
   ]
  },
  {
   "cell_type": "code",
   "execution_count": 12,
   "metadata": {},
   "outputs": [
    {
     "data": {
      "text/plain": [
       "false"
      ]
     },
     "execution_count": 12,
     "metadata": {},
     "output_type": "execute_result"
    }
   ],
   "source": [
    "postorder := []int{1, 3, 2, 6, 7, 4, 5}\n",
    "verifyPostorder(postorder)"
   ]
  },
  {
   "cell_type": "code",
   "execution_count": 13,
   "metadata": {},
   "outputs": [],
   "source": []
  },
  {
   "cell_type": "code",
   "execution_count": null,
   "metadata": {},
   "outputs": [],
   "source": []
  }
 ],
 "metadata": {
  "kernelspec": {
   "display_name": "Go",
   "language": "go",
   "name": "gophernotes"
  },
  "language_info": {
   "codemirror_mode": "",
   "file_extension": ".go",
   "mimetype": "",
   "name": "go",
   "nbconvert_exporter": "",
   "pygments_lexer": "",
   "version": "go1.18.4"
  },
  "orig_nbformat": 4
 },
 "nbformat": 4,
 "nbformat_minor": 2
}
